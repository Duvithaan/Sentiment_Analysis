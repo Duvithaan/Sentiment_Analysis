{
 "cells": [
  {
   "cell_type": "code",
   "execution_count": 1,
   "id": "a9e1d29d",
   "metadata": {},
   "outputs": [
    {
     "name": "stderr",
     "output_type": "stream",
     "text": [
      "C:\\Users\\Duvitha\\AppData\\Roaming\\Python\\Python311\\site-packages\\pandas\\core\\arrays\\masked.py:60: UserWarning: Pandas requires version '1.3.6' or newer of 'bottleneck' (version '1.3.5' currently installed).\n",
      "  from pandas.core import (\n"
     ]
    }
   ],
   "source": [
    "import feedparser\n",
    "from transformers import pipeline\n",
    "pipe=pipeline(task=\"text-classification\", model=\"ProsusAI/finbert\")\n"
   ]
  },
  {
   "cell_type": "code",
   "execution_count": 7,
   "id": "743a27f5",
   "metadata": {},
   "outputs": [
    {
     "name": "stdout",
     "output_type": "stream",
     "text": [
      "[{'label': 'positive', 'score': 0.9153479337692261}]\n"
     ]
    }
   ],
   "source": [
    "print(pipe('Stock rallied and the british pound gained against the dollar'))"
   ]
  },
  {
   "cell_type": "code",
   "execution_count": 13,
   "id": "4586b2ab",
   "metadata": {},
   "outputs": [
    {
     "name": "stdout",
     "output_type": "stream",
     "text": [
      "Found 41 entries in the feed.\n",
      "\n",
      "[1] Title: Comex Gold Ends the Month 0.04% Lower at $3293.20\n",
      "Link: https://www.wsj.com/finance/commodities-futures/gold-edges-higher-on-possible-position-adjustments-befe075e?siteid=yhoof2&yptr=yahoo\n",
      "Published: 2025-07-31T17:52:00Z\n",
      "Summary: \n",
      "Sentiment: POSITIVE, Score: 0.7481209635734558\n",
      "----------------------------------------\n",
      "[2] Title: XPO Cuts Costs, Expands Margins Despite Freight Slowdown\n",
      "[3] Title: Activist Carronade pushes Viasat breakup, says valuation could jump 500%, FT reports\n",
      "[4] Title: Stock Market Today: Indexes Trim Gains As Core Inflation Exceeds Views; Meta, Carvana Hit New Entries (Live)\n",
      "[5] Title: Logistics Giant DSV Hits Pause on U.S.-Mexico Investments\n",
      "[6] Title: UPS Stock Approaches Its Covid-Era Lows. Is it a Buy?\n",
      "[7] Title: Renault names François Provost as CEO and chairman\n",
      "[8] Title: Pressure is on for Amazon to deliver strong Q2 earnings results following big beats by Google, Microsoft\n",
      "[9] Title: Magnificent Seven's Combined Market Value Hits New Record\n",
      "[10] Title: IBD Stock Of The Day, Snowflake, On Artificial Intelligence Fast Track\n",
      "[11] Title: Daimler Truck Cuts Guidance on North America Uncertainty\n",
      "[12] Title: How to turn Reddit hype into real dollars, as meme-stock mania returns to markets\n",
      "[13] Title: Apple Stock Turns Positive Before Earnings\n",
      "[14] Title: What a Real Back Office Looks Like for a Two-Truck Operation\n",
      "[15] Title: Rubrik Stock Rockets 198% As The AI Software Leader Nears Buy Point\n",
      "[16] Title: Markets Surge. A Look Ahead Shows Pullbacks May Be on the Horizon\n",
      "[17] Title: Robinhood Sheds Its Meme Stock Skin, Emerges As Full-Fledged Fintech Player\n",
      "[18] Title: Reddit Stock Rallies With Q2 Report Due Soon. Here's What To Watch For.\n",
      "[19] Title: Figma Stock Set to Triple When It Starts Trading Today\n",
      "[20] Title: Enel Launches $1.14 Billion Share Buyback, Confirms Guidance\n",
      "[21] Title: Stock market today: Nasdaq, S&P 500 jump as Big Tech earnings, trade deals lift spirits\n",
      "[22] Title: Why Cameco Stock Dropped Today\n",
      "[23] Title: Stocks to Watch Thursday: Microsoft, Qualcomm, Arm, Meta\n",
      "[24] Title: DeFi Technologies To Manage Nuvve’s HYPE Treasury Through New DeFi Advisory Line\n",
      "[25] Title: Wallbox Launches Virtual Power Plants In California and New York through Leap Partnership\n",
      "[26] Title: FAT Brands touts 1,000-store pipeline despite growing debt and revenue declines\n",
      "[27] Title: Blink Charging And Universal Media Introduce Salt Lake City’s First “EV Totem”\n",
      "[28] Title: VinFast Secures First California Dealership\n",
      "[29] Title: Aperol Maker Campari Maintains Guidance Despite Tariff Woes\n",
      "[30] Title: XPENG Introduces A Localization Strategy And Delivers Indonesia’s First Locally-Made X9\n",
      "[31] Title: Why eBay Stock Is Leading the S&P 500 Thursday\n",
      "[32] Title: Lucid and Mining Companies Sign a MOU with Alaska Energy Metals\n",
      "[33] Title: NIO’s Firefly Brand Uses HERE Technologies to Power Smart, Connected EV Journeys\n",
      "[34] Title: EVgo Launches First Fast-Charging Stations As Part Of Toyota’s “Empact” Strategy\n",
      "[35] Title: o9 Introduces Li Auto’s Integrated Planning Capabilities\n",
      "[36] Title: Figma Poised to Open Trading at Nearly Triple Its IPO Price\n",
      "[37] Title: Rivian Launches New East Coast Headquarters in Atlanta\n",
      "[38] Title: Stifel Cuts Tesla, Inc. (TSLA) Price Target\n",
      "[39] Title: META Stock Soars and Options Volume Explodes - Is META Fully Valued?\n",
      "[40] Title: Universal Music Logs Higher Revenue on Healthy Subscriptions and Streaming Growth\n",
      "[41] Title: Why TransMedics Stock Is Skyrocketing Today\n",
      "\n",
      "Overall sentiment: positive (0.7481)\n"
     ]
    }
   ],
   "source": [
    "import feedparser\n",
    "from transformers import pipeline\n",
    "\n",
    "pipe = pipeline(\"sentiment-analysis\", model=\"distilbert-base-uncased-finetuned-sst-2-english\")\n",
    "\n",
    "ticker = 'GC=F'\n",
    "keyword = 'gold'\n",
    "res_url = f'https://finance.yahoo.com/rss/top/headlines?s={ticker}'\n",
    "feed = feedparser.parse(res_url)\n",
    "\n",
    "print(f\"Found {len(feed.entries)} entries in the feed.\\n\")\n",
    "\n",
    "total_score = 0\n",
    "num_articles = 0\n",
    "\n",
    "for i, entry in enumerate(feed.entries):\n",
    "    summary = entry.get(\"summary\", \"\") or entry.get(\"description\", \"\")\n",
    "    title = entry.get(\"title\", \"No Title\")\n",
    "\n",
    "    # Debug: show title even if keyword is not found\n",
    "    print(f\"[{i+1}] Title: {title}\")\n",
    "\n",
    "    # Check in title + summary instead of just summary\n",
    "    text_to_check = (title + \" \" + summary).lower()\n",
    "\n",
    "    if keyword.lower() not in text_to_check:\n",
    "        continue\n",
    "\n",
    "    link = entry.get(\"link\", \"No Link\")\n",
    "    published = entry.get(\"published\", \"No Date\")\n",
    "\n",
    "    print(f'Link: {link}')\n",
    "    print(f'Published: {published}')\n",
    "    print(f'Summary: {summary}')\n",
    "\n",
    "    sentiment = pipe(summary)[0]\n",
    "\n",
    "    print(f'Sentiment: {sentiment[\"label\"]}, Score: {sentiment[\"score\"]}')\n",
    "    print('-' * 40)\n",
    "\n",
    "    if sentiment['label'].lower() == 'positive':\n",
    "        total_score += sentiment['score']\n",
    "        num_articles += 1\n",
    "    elif sentiment['label'].lower() == 'negative':\n",
    "        total_score -= sentiment['score']\n",
    "        num_articles += 1\n",
    "\n",
    "if num_articles > 0:\n",
    "    final_score = total_score / num_articles\n",
    "    overall = (\n",
    "        \"positive\" if final_score >= 0.15 else\n",
    "        \"negative\" if final_score <= -0.15 else\n",
    "        \"neutral\"\n",
    "    )\n",
    "    print(f'\\nOverall sentiment: {overall} ({final_score:.4f})')\n",
    "else:\n",
    "    print('\\nNo relevant articles found for sentiment analysis.')\n"
   ]
  }
 ],
 "metadata": {
  "kernelspec": {
   "display_name": "base",
   "language": "python",
   "name": "python3"
  },
  "language_info": {
   "codemirror_mode": {
    "name": "ipython",
    "version": 3
   },
   "file_extension": ".py",
   "mimetype": "text/x-python",
   "name": "python",
   "nbconvert_exporter": "python",
   "pygments_lexer": "ipython3",
   "version": "3.11.4"
  }
 },
 "nbformat": 4,
 "nbformat_minor": 5
}
